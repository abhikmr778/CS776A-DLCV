{
 "cells": [
  {
   "cell_type": "markdown",
   "id": "9f39e1e9-1060-443e-b1a3-738f77bed318",
   "metadata": {},
   "source": [
    "## DLCV Project Group 9 : Active Learning for Deep Object Detection "
   ]
  },
  {
   "cell_type": "markdown",
   "id": "f498d798-697b-4511-b6d5-92347e92f735",
   "metadata": {},
   "source": [
    "## 1. Requirements:\n",
    "1. sys\n",
    "2. re\n",
    "3. os\n",
    "4. pand\n",
    "5. tensorflow\n",
    "6. colorsys\n",
    "7. PIL\n",
    "8. torch\n",
    "9. torchmetrics.detection.map\n",
    "10. shutil\n",
    "11. pprint\n",
    "12. numpy"
   ]
  },
  {
   "cell_type": "markdown",
   "id": "4495deca-f29b-4145-b1b5-74b678d51789",
   "metadata": {},
   "source": [
    "## 2. Folder structure\n",
    "1. coco_dataset\n",
    "    1. images folder - have coco dataset images\n",
    "    2. image_annotations.csv -  have annotation for all the images in the images folder.\n",
    "2. yolocode\n",
    "    1. model_data - This folder have three file coco_classes.txt have names of all classes in coco dataset, yolo_anchors.txt have anchor for yolo model, yolo_weights.h5 are weights for pretrained model.\n",
    "    2. yolo3 - Contains model.py file have code for model architecture and utils.py file have utils function for yolo model.\n",
    "    \n"
   ]
  },
  {
   "cell_type": "markdown",
   "id": "60038362-9725-47e7-98f7-8a35a23d6fa5",
   "metadata": {},
   "source": [
    "## 3. How to run code\n",
    "1. Active learning code is in yolo_active_learning.ipynb notebook.\n",
    "2. To select dataset size to consider in make_annotation_txtfile function change value of nrows in read_csv function. make_annotation_txtfile function split dataset into testing and unlabel pool. It create txt file as image_name followed by annotation.  \n",
    "3. In section 6.1 make_annotation_txtfile is called followed by select_train_data function this function select N data from unlabel pool to train set. N is given as parameter.\n",
    "4. In section 6.2 train function outside loop will train model on N data selected from section 6.1. \n",
    "5. In loop 'n' parameter of annotated_images specify to select next most informative sample for next training."
   ]
  }
 ],
 "metadata": {
  "kernelspec": {
   "display_name": "Python 3 (ipykernel)",
   "language": "python",
   "name": "python3"
  },
  "language_info": {
   "codemirror_mode": {
    "name": "ipython",
    "version": 3
   },
   "file_extension": ".py",
   "mimetype": "text/x-python",
   "name": "python",
   "nbconvert_exporter": "python",
   "pygments_lexer": "ipython3",
   "version": "3.9.6"
  }
 },
 "nbformat": 4,
 "nbformat_minor": 5
}
